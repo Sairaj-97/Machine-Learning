{
  "nbformat": 4,
  "nbformat_minor": 0,
  "metadata": {
    "colab": {
      "provenance": [],
      "authorship_tag": "ABX9TyPsHytzC5eUrJpiL8bguvBD",
      "include_colab_link": true
    },
    "kernelspec": {
      "name": "python3",
      "display_name": "Python 3"
    },
    "language_info": {
      "name": "python"
    }
  },
  "cells": [
    {
      "cell_type": "markdown",
      "metadata": {
        "id": "view-in-github",
        "colab_type": "text"
      },
      "source": [
        "<a href=\"https://colab.research.google.com/github/Sairaj-97/Machine-Learning/blob/main/DecisionTree.ipynb\" target=\"_parent\"><img src=\"https://colab.research.google.com/assets/colab-badge.svg\" alt=\"Open In Colab\"/></a>"
      ]
    },
    {
      "cell_type": "code",
      "execution_count": null,
      "metadata": {
        "id": "bpKmRhkv065D"
      },
      "outputs": [],
      "source": []
    },
    {
      "cell_type": "markdown",
      "source": [
        "Sure! Here’s a clean and concise version you can directly copy into your notes. 📚\n",
        "\n",
        "---\n",
        "\n",
        "## ✅ Decision Tree Splitting Criteria – Definitions & Formulas\n",
        "\n",
        "---\n",
        "\n",
        "### 🔹 **Entropy**\n",
        "\n",
        "* **Definition:**\n",
        "  Entropy measures the **impurity** or **uncertainty** in a dataset.\n",
        "  A node is **pure** if all elements belong to the same class (Entropy = 0).\n",
        "\n",
        "* **Formula:**\n",
        "\n",
        "$$\n",
        "\\text{Entropy}(S) = -\\sum_{i=1}^{C} p_i \\cdot \\log_2(p_i)\n",
        "$$\n",
        "\n",
        "Where:\n",
        "\n",
        "* $C$ = number of classes\n",
        "* $p_i$ = proportion of samples in class $i$\n",
        "\n",
        "---\n",
        "\n",
        "### 🔹 **Information Gain (IG)**\n",
        "\n",
        "* **Definition:**\n",
        "  Information Gain measures the **reduction in entropy** after a dataset is split on a feature.\n",
        "  Higher IG means a **better split**.\n",
        "\n",
        "* **Formula:**\n",
        "\n",
        "$$\n",
        "\\text{Information Gain} = \\text{Entropy(Parent)} - \\sum_{j=1}^{k} \\frac{n_j}{n} \\cdot \\text{Entropy(Child}_j)\n",
        "$$\n",
        "\n",
        "Where:\n",
        "\n",
        "* $n$ = total samples in parent\n",
        "* $n_j$ = samples in child $j$\n",
        "* $k$ = number of child nodes\n",
        "\n",
        "---\n",
        "\n",
        "### 🔹 **Gini Impurity**\n",
        "\n",
        "* **Definition:**\n",
        "  Gini Impurity measures the **probability of misclassifying** a sample if randomly labeled according to the distribution in the node.\n",
        "  Gini = 0 means all samples belong to one class (pure).\n",
        "\n",
        "* **Formula:**\n",
        "\n",
        "$$\n",
        "\\text{Gini}(S) = 1 - \\sum_{i=1}^{C} p_i^2\n",
        "$$\n",
        "\n",
        "Where:\n",
        "\n",
        "* $C$ = number of classes\n",
        "* $p_i$ = proportion of samples in class $i$\n",
        "\n",
        "---\n",
        "\n"
      ],
      "metadata": {
        "id": "xUqJ_W031m3X"
      }
    },
    {
      "cell_type": "code",
      "source": [
        "#Import necessary libraries\n",
        "from sklearn.datasets import load_iris\n",
        "from sklearn.tree import DecisionTreeClassifier\n",
        "from sklearn.model_selection import train_test_split\n",
        "from sklearn.metrics import accuracy_score, classification_report\n",
        "from sklearn import tree\n",
        "import pandas as pd\n",
        "import matplotlib.pyplot as plt\n"
      ],
      "metadata": {
        "id": "DT_ObKhA1oju"
      },
      "execution_count": 4,
      "outputs": []
    },
    {
      "cell_type": "code",
      "source": [
        "iris=load_iris()\n",
        "df=pd.DataFrame(iris.data,columns=iris.feature_names)\n",
        "df['target']=iris.target\n",
        "df.head()\n",
        "X=df.drop('target',axis='columns')\n",
        "Y=df['target']\n",
        "X_test,X_train,Y_test,Y_train=train_test_split(X,Y,test_size=0.2,random_state=42)\n",
        "model=DecisionTreeClassifier()\n",
        "model.fit(X_train,Y_train)\n",
        "predictions=model.predict(X_train)\n",
        "print(\"accuuracy of train data:\",accuracy_score(predictions,Y_train))"
      ],
      "metadata": {
        "colab": {
          "base_uri": "https://localhost:8080/"
        },
        "id": "iNL8DYev2Hj7",
        "outputId": "bd72189d-04f2-4caa-cdb8-bd797b6e5913"
      },
      "execution_count": 12,
      "outputs": [
        {
          "output_type": "stream",
          "name": "stdout",
          "text": [
            "accuuracy of train data: 1.0\n"
          ]
        }
      ]
    },
    {
      "cell_type": "code",
      "source": [
        "#test data\n",
        "test_predictions=model.predict(X_test)\n",
        "print(\"accuracy of test data:\",accuracy_score(test_predictions,Y_test))"
      ],
      "metadata": {
        "colab": {
          "base_uri": "https://localhost:8080/"
        },
        "id": "j2ZaQSo52WIE",
        "outputId": "81a2abd2-138d-4643-8c72-436cef35eb45"
      },
      "execution_count": 13,
      "outputs": [
        {
          "output_type": "stream",
          "name": "stdout",
          "text": [
            "accuracy of test data: 0.9416666666666667\n"
          ]
        }
      ]
    },
    {
      "cell_type": "code",
      "source": [],
      "metadata": {
        "id": "QbG9BApG4X08"
      },
      "execution_count": null,
      "outputs": []
    }
  ]
}